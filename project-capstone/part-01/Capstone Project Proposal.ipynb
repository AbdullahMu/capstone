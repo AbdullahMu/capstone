{
 "cells": [
  {
   "cell_type": "markdown",
   "metadata": {},
   "source": [
    "# ![](https://ga-dash.s3.amazonaws.com/production/assets/logo-9f88ae6c9c3871690e33280fcf557f33.png) Capstone Project, Part 1: Proposal\n",
    "\n",
    "## Context\n",
    "\n",
    "Two potential ideas for the capstone project will be proposed with their problem statement.\n",
    "\n",
    "## Proposal 1: Predicting the Saudi Arabian InterBank Offered Rate (SAIBOR):\n",
    "\n",
    "The status of the economy of a country is indicated by the value of the interest rate, which is a crucial financial metric that is regulated and maintained by perspective central banks. In Saudi Arabia, the interest rate is designated the acronym SAIBOR and is regulated daily by the Saudi Arabian Monetary Authority (SAMA). SAIBOR has a pervasive effect on the interest rates on mortgages and loans, economic growth, inflation, etc.\n",
    "\n",
    "**Problem Statement:** Historical data of the SAIBOR and related financial variable will be studies and used to train a model that predicts the value of the SAIBOR.\n",
    "\n",
    "**Potential Sources of Data:** Saudi Arabian British Bank (SAAB), Saudi Arabian Monetary Authority (SAMA).\n",
    "\n",
    "An article demonstrating the significance of SAIBOR prediction: https://www.alarabiya.net/ar/aswaq/2016/11/22/خبير-احتساب-السايبور-على-أساس-أسبوعي-وشهري-يقلل-التذبذب-\n",
    "\n",
    "## Proposal 2: Predicting the Key Performance Indicators (KPIs) of Saudi Arabian Private Sector:\n",
    "\n",
    "Many regulatory financial institutions publish quarterly reports summarizing the state of the economy and the performance of publicly traded companies. These institutions include: Federal Deposit Insurance Corporation (FDIC), International Monetary Fund (IMF), Saudi Arabian Monetary Authority (SAMA). Even though these data is released to the public, information like the ratings issued to the companies using their supervisory rating system are coveted and used to charge insurance premiums. Predicting the ratings is a well-researched problem, usually public is reverse engineered to guess them. One of the widely used model is the Merton Model.\n",
    "\n",
    "Merton model definition: https://www.investopedia.com/terms/m/mertonmodel.asp\n",
    "\n",
    "**Problem Statement:** the Merton model predicts the performance of a company using a limited set of data. The model will be enhanced and optimized by adding and engineering features extracted from different quarterly reports. The results of the modified and regular model will be compared in contrasted.\n",
    "\n",
    "**Potential Sources of Data:** Federal Deposit Insurance Corporation (FDIC), International Monetary Fund (IMF), Saudi Arabian Monetary Authority (SAMA).\n",
    "\n",
    "\n",
    "\n",
    "\n",
    "\n"
   ]
  },
  {
   "cell_type": "code",
   "execution_count": null,
   "metadata": {},
   "outputs": [],
   "source": []
  }
 ],
 "metadata": {
  "kernelspec": {
   "display_name": "Python 3",
   "language": "python",
   "name": "python3"
  },
  "language_info": {
   "codemirror_mode": {
    "name": "ipython",
    "version": 3
   },
   "file_extension": ".py",
   "mimetype": "text/x-python",
   "name": "python",
   "nbconvert_exporter": "python",
   "pygments_lexer": "ipython3",
   "version": "3.7.1"
  }
 },
 "nbformat": 4,
 "nbformat_minor": 2
}
